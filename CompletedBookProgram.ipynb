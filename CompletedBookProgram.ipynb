{
  "cells": [
    {
      "cell_type": "markdown",
      "metadata": {
        "id": "view-in-github",
        "colab_type": "text"
      },
      "source": [
        "<a href=\"https://colab.research.google.com/github/noe-kneed/book-rec-sys/blob/main/CompletedBookProgram.ipynb\" target=\"_parent\"><img src=\"https://colab.research.google.com/assets/colab-badge.svg\" alt=\"Open In Colab\"/></a>"
      ]
    },
    {
      "cell_type": "code",
      "execution_count": null,
      "metadata": {
        "colab": {
          "base_uri": "https://localhost:8080/"
        },
        "id": "oxtV_JxIM5ld",
        "outputId": "4c87b34f-8dbf-4fd8-ef96-f1b7c7ffb6c7"
      },
      "outputs": [
        {
          "name": "stdout",
          "output_type": "stream",
          "text": [
            "Mounted at /content/drive\n"
          ]
        }
      ],
      "source": [
        "import pandas as pd\n",
        "import numpy as np\n",
        "import ast\n",
        "from google.colab import drive\n",
        "drive.mount('/content/drive')"
      ]
    },
    {
      "cell_type": "code",
      "execution_count": null,
      "metadata": {
        "id": "Y2E_F9PvSUEF"
      },
      "outputs": [],
      "source": [
        "df = pd.read_csv('/content/drive/MyDrive/My data/Book data txt/newbookdata.csv')"
      ]
    },
    {
      "cell_type": "code",
      "execution_count": null,
      "metadata": {
        "colab": {
          "base_uri": "https://localhost:8080/"
        },
        "id": "g2CXu8_TM9CT",
        "outputId": "b276eb0d-aaa6-4359-8fbe-87ce83abc40a"
      },
      "outputs": [
        {
          "data": {
            "text/plain": [
              "0    [0, 0, 0, 0, 0, 0, 0, 0, 0, 0, 0, 0, 0, 0, 0, ...\n",
              "1    [0, 0, 0, 0, 0, 0, 0, 0, 0, 0, 0, 0, 0, 0, 0, ...\n",
              "2    [0, 0, 0, 0, 0, 0, 0, 0, 0, 0, 0, 0, 0, 0, 0, ...\n",
              "3    [0, 0, 0, 0, 0, 0, 0, 0, 0, 0, 0, 0, 0, 0, 0, ...\n",
              "4    [0, 0, 0, 0, 0, 0, 0, 0, 0, 0, 0, 0, 0, 0, 0, ...\n",
              "Name: Bi_Vec, dtype: object"
            ]
          },
          "execution_count": 3,
          "metadata": {},
          "output_type": "execute_result"
        }
      ],
      "source": [
        "#create a new series that will contain all the binary vector in form of lists and name it 'temp_bivec'\n",
        "def convert_to_list(list_str):\n",
        "    try:\n",
        "        return ast.literal_eval(list_str)\n",
        "    except (SyntaxError, ValueError):\n",
        "        return []\n",
        "\n",
        "temp_bivec = df['Bi_Vec'].apply(convert_to_list)\n",
        "\n",
        "temp_bivec.head()"
      ]
    },
    {
      "cell_type": "code",
      "execution_count": null,
      "metadata": {
        "id": "ST-JrOkLTUl_"
      },
      "outputs": [],
      "source": [
        "#Create Hamming distance that calculates similarity between two lists\n",
        "\n",
        "def hammingdistance(list1, list2):\n",
        "    if len(list1) != len(list2):\n",
        "        raise ValueError(\"Input lists must have the same length\")\n",
        "\n",
        "    distance = sum(el1 == el2 and el1 == 1 for el1, el2 in zip(list1, list2))\n",
        "    return distance"
      ]
    },
    {
      "cell_type": "code",
      "execution_count": null,
      "metadata": {
        "colab": {
          "base_uri": "https://localhost:8080/",
          "height": 53
        },
        "id": "DoV2XaA3T1r7",
        "outputId": "b8d002af-b047-48dc-f012-f5296db6eb67"
      },
      "outputs": [
        {
          "name": "stdout",
          "output_type": "stream",
          "text": [
            "Enter the book namethe plague\n"
          ]
        },
        {
          "data": {
            "application/vnd.google.colaboratory.intrinsic+json": {
              "type": "string"
            },
            "text/plain": [
              "'The Plague'"
            ]
          },
          "execution_count": 6,
          "metadata": {},
          "output_type": "execute_result"
        }
      ],
      "source": [
        "user_input = str(input('Enter the book name')).title()\n",
        "user_input"
      ]
    },
    {
      "cell_type": "code",
      "execution_count": 24,
      "metadata": {
        "colab": {
          "base_uri": "https://localhost:8080/"
        },
        "id": "Q6vzTee0eFHE",
        "outputId": "6bd5133c-d65d-4902-a745-2def4ac8fb65"
      },
      "outputs": [
        {
          "output_type": "execute_result",
          "data": {
            "text/plain": [
              "0"
            ]
          },
          "metadata": {},
          "execution_count": 24
        }
      ],
      "source": [
        "n = df.isin(['hei']).any(axis=1).idxmax()\n",
        "n"
      ]
    },
    {
      "cell_type": "code",
      "execution_count": null,
      "metadata": {
        "id": "gVm0cWs3c7VF"
      },
      "outputs": [],
      "source": [
        "df['Similarity'] = temp_bivec.apply(lambda x: hammingdistance(temp_bivec[n], x))"
      ]
    }
  ],
  "metadata": {
    "colab": {
      "provenance": [],
      "authorship_tag": "ABX9TyMc6ImS1rNVdVxogAP24ReJ",
      "include_colab_link": true
    },
    "kernelspec": {
      "display_name": "Python 3",
      "name": "python3"
    },
    "language_info": {
      "name": "python"
    }
  },
  "nbformat": 4,
  "nbformat_minor": 0
}